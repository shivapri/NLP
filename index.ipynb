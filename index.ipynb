{
 "cells": [
  {
   "cell_type": "code",
   "execution_count": 103,
   "metadata": {},
   "outputs": [],
   "source": [
    "import nltk"
   ]
  },
  {
   "cell_type": "code",
   "execution_count": 104,
   "metadata": {},
   "outputs": [
    {
     "name": "stdout",
     "output_type": "stream",
     "text": [
      "NLTK Downloader\n",
      "---------------------------------------------------------------------------\n",
      "    d) Download   l) List    u) Update   c) Config   h) Help   q) Quit\n",
      "---------------------------------------------------------------------------\n",
      "Downloader> \n",
      "\n",
      "---------------------------------------------------------------------------\n",
      "    d) Download   l) List    u) Update   c) Config   h) Help   q) Quit\n",
      "---------------------------------------------------------------------------\n",
      "Downloader> l\n",
      "\n",
      "Packages:\n",
      "  [ ] abc................. Australian Broadcasting Commission 2006\n",
      "  [ ] alpino.............. Alpino Dutch Treebank\n",
      "  [ ] averaged_perceptron_tagger Averaged Perceptron Tagger\n",
      "  [ ] averaged_perceptron_tagger_ru Averaged Perceptron Tagger (Russian)\n",
      "  [ ] basque_grammars..... Grammars for Basque\n",
      "  [ ] biocreative_ppi..... BioCreAtIvE (Critical Assessment of Information\n",
      "                           Extraction Systems in Biology)\n",
      "  [ ] bllip_wsj_no_aux.... BLLIP Parser: WSJ Model\n",
      "  [ ] book_grammars....... Grammars from NLTK Book\n",
      "  [ ] brown............... Brown Corpus\n",
      "  [ ] brown_tei........... Brown Corpus (TEI XML Version)\n",
      "  [ ] cess_cat............ CESS-CAT Treebank\n",
      "  [ ] cess_esp............ CESS-ESP Treebank\n",
      "  [ ] chat80.............. Chat-80 Data Files\n",
      "  [ ] city_database....... City Database\n",
      "  [ ] cmudict............. The Carnegie Mellon Pronouncing Dictionary (0.6)\n",
      "  [ ] comparative_sentences Comparative Sentence Dataset\n",
      "  [ ] comtrans............ ComTrans Corpus Sample\n",
      "  [ ] conll2000........... CONLL 2000 Chunking Corpus\n",
      "  [ ] conll2002........... CONLL 2002 Named Entity Recognition Corpus\n",
      "Hit Enter to continue: \n",
      "  [ ] conll2007........... Dependency Treebanks from CoNLL 2007 (Catalan\n",
      "                           and Basque Subset)\n",
      "  [ ] crubadan............ Crubadan Corpus\n",
      "  [ ] dependency_treebank. Dependency Parsed Treebank\n",
      "  [ ] dolch............... Dolch Word List\n",
      "  [ ] europarl_raw........ Sample European Parliament Proceedings Parallel\n",
      "                           Corpus\n",
      "  [ ] floresta............ Portuguese Treebank\n",
      "  [ ] framenet_v15........ FrameNet 1.5\n",
      "  [ ] framenet_v17........ FrameNet 1.7\n",
      "  [ ] gazetteers.......... Gazeteer Lists\n",
      "  [ ] genesis............. Genesis Corpus\n",
      "  [ ] gutenberg........... Project Gutenberg Selections\n",
      "  [ ] ieer................ NIST IE-ER DATA SAMPLE\n",
      "  [ ] inaugural........... C-Span Inaugural Address Corpus\n",
      "  [ ] indian.............. Indian Language POS-Tagged Corpus\n",
      "  [ ] jeita............... JEITA Public Morphologically Tagged Corpus (in\n",
      "                           ChaSen format)\n",
      "  [ ] kimmo............... PC-KIMMO Data Files\n",
      "  [ ] knbc................ KNB Corpus (Annotated blog corpus)\n",
      "  [ ] large_grammars...... Large context-free and feature-based grammars\n",
      "                           for parser comparison\n",
      "Hit Enter to continue: \n",
      "  [ ] lin_thesaurus....... Lin's Dependency Thesaurus\n",
      "  [ ] mac_morpho.......... MAC-MORPHO: Brazilian Portuguese news text with\n",
      "                           part-of-speech tags\n",
      "  [ ] machado............. Machado de Assis -- Obra Completa\n",
      "  [ ] masc_tagged......... MASC Tagged Corpus\n",
      "  [ ] maxent_ne_chunker... ACE Named Entity Chunker (Maximum entropy)\n",
      "  [ ] maxent_treebank_pos_tagger Treebank Part of Speech Tagger (Maximum entropy)\n",
      "  [ ] moses_sample........ Moses Sample Models\n",
      "  [ ] movie_reviews....... Sentiment Polarity Dataset Version 2.0\n",
      "  [ ] mte_teip5........... MULTEXT-East 1984 annotated corpus 4.0\n",
      "  [ ] mwa_ppdb............ The monolingual word aligner (Sultan et al.\n",
      "                           2015) subset of the Paraphrase Database.\n",
      "  [ ] names............... Names Corpus, Version 1.3 (1994-03-29)\n",
      "  [ ] nombank.1.0......... NomBank Corpus 1.0\n",
      "  [ ] nonbreaking_prefixes Non-Breaking Prefixes (Moses Decoder)\n",
      "  [ ] nps_chat............ NPS Chat\n",
      "  [ ] omw................. Open Multilingual Wordnet\n",
      "  [ ] opinion_lexicon..... Opinion Lexicon\n",
      "  [ ] panlex_swadesh...... PanLex Swadesh Corpora\n",
      "  [ ] paradigms........... Paradigm Corpus\n",
      "  [ ] pe08................ Cross-Framework and Cross-Domain Parser\n",
      "                           Evaluation Shared Task\n",
      "Hit Enter to continue: \n",
      "  [ ] perluniprops........ perluniprops: Index of Unicode Version 7.0.0\n",
      "                           character properties in Perl\n",
      "  [ ] pil................. The Patient Information Leaflet (PIL) Corpus\n",
      "  [ ] pl196x.............. Polish language of the XX century sixties\n",
      "  [ ] porter_test......... Porter Stemmer Test Files\n",
      "  [ ] ppattach............ Prepositional Phrase Attachment Corpus\n",
      "  [ ] problem_reports..... Problem Report Corpus\n",
      "  [ ] product_reviews_1... Product Reviews (5 Products)\n",
      "  [ ] product_reviews_2... Product Reviews (9 Products)\n",
      "  [ ] propbank............ Proposition Bank Corpus 1.0\n",
      "  [ ] pros_cons........... Pros and Cons\n",
      "  [ ] ptb................. Penn Treebank\n",
      "  [ ] punkt............... Punkt Tokenizer Models\n",
      "  [ ] qc.................. Experimental Data for Question Classification\n",
      "  [ ] reuters............. The Reuters-21578 benchmark corpus, ApteMod\n",
      "                           version\n",
      "  [ ] rslp................ RSLP Stemmer (Removedor de Sufixos da Lingua\n",
      "                           Portuguesa)\n",
      "  [ ] rte................. PASCAL RTE Challenges 1, 2, and 3\n",
      "  [ ] sample_grammars..... Sample Grammars\n",
      "  [ ] semcor.............. SemCor 3.0\n",
      "Hit Enter to continue: \n",
      "  [ ] senseval............ SENSEVAL 2 Corpus: Sense Tagged Text\n",
      "  [ ] sentence_polarity... Sentence Polarity Dataset v1.0\n",
      "  [ ] sentiwordnet........ SentiWordNet\n",
      "  [ ] shakespeare......... Shakespeare XML Corpus Sample\n",
      "  [ ] sinica_treebank..... Sinica Treebank Corpus Sample\n",
      "  [ ] smultron............ SMULTRON Corpus Sample\n",
      "  [ ] snowball_data....... Snowball Data\n",
      "  [ ] spanish_grammars.... Grammars for Spanish\n",
      "  [ ] state_union......... C-Span State of the Union Address Corpus\n",
      "  [*] stopwords........... Stopwords Corpus\n",
      "  [ ] subjectivity........ Subjectivity Dataset v1.0\n",
      "  [ ] swadesh............. Swadesh Wordlists\n",
      "  [ ] switchboard......... Switchboard Corpus Sample\n",
      "  [ ] tagsets............. Help on Tagsets\n",
      "  [ ] timit............... TIMIT Corpus Sample\n",
      "  [ ] toolbox............. Toolbox Sample Files\n",
      "  [ ] treebank............ Penn Treebank Sample\n",
      "  [ ] twitter_samples..... Twitter Samples\n",
      "  [ ] udhr2............... Universal Declaration of Human Rights Corpus\n",
      "                           (Unicode Version)\n",
      "  [ ] udhr................ Universal Declaration of Human Rights Corpus\n",
      "Hit Enter to continue: stopwords\n",
      "  [ ] unicode_samples..... Unicode Samples\n",
      "  [ ] universal_tagset.... Mappings to the Universal Part-of-Speech Tagset\n",
      "  [ ] universal_treebanks_v20 Universal Treebanks Version 2.0\n",
      "  [ ] vader_lexicon....... VADER Sentiment Lexicon\n",
      "  [ ] verbnet3............ VerbNet Lexicon, Version 3.3\n",
      "  [ ] verbnet............. VerbNet Lexicon, Version 2.1\n",
      "  [ ] webtext............. Web Text Corpus\n",
      "  [ ] wmt15_eval.......... Evaluation data from WMT15\n",
      "  [ ] word2vec_sample..... Word2Vec Sample\n",
      "  [ ] wordnet............. WordNet\n",
      "  [ ] wordnet_ic.......... WordNet-InfoContent\n",
      "  [ ] words............... Word Lists\n",
      "  [ ] ycoe................ York-Toronto-Helsinki Parsed Corpus of Old\n",
      "                           English Prose\n",
      "\n",
      "Collections:\n",
      "  [P] all-corpora......... All the corpora\n",
      "  [P] all-nltk............ All packages available on nltk_data gh-pages\n",
      "                           branch\n",
      "  [P] all................. All packages\n",
      "  [P] book................ Everything used in the NLTK Book\n",
      "  [P] popular............. Popular packages\n",
      "Hit Enter to continue: d\n",
      "  [ ] tests............... Packages for running tests\n",
      "  [ ] third-party......... Third-party data packages\n",
      "\n",
      "([*] marks installed packages; [P] marks partially installed collections)\n",
      "\n",
      "---------------------------------------------------------------------------\n",
      "    d) Download   l) List    u) Update   c) Config   h) Help   q) Quit\n",
      "---------------------------------------------------------------------------\n",
      "Downloader> d\n",
      "\n",
      "Download which package (l=list; x=cancel)?\n",
      "  Identifier> stopwords\n"
     ]
    },
    {
     "name": "stderr",
     "output_type": "stream",
     "text": [
      "    Downloading package stopwords to\n",
      "        C:\\Users\\HP\\AppData\\Roaming\\nltk_data...\n",
      "      Package stopwords is already up-to-date!\n"
     ]
    },
    {
     "name": "stdout",
     "output_type": "stream",
     "text": [
      "\n",
      "---------------------------------------------------------------------------\n",
      "    d) Download   l) List    u) Update   c) Config   h) Help   q) Quit\n",
      "---------------------------------------------------------------------------\n",
      "Downloader> q\n"
     ]
    }
   ],
   "source": [
    "nltk.download_shell()"
   ]
  },
  {
   "cell_type": "code",
   "execution_count": 105,
   "metadata": {},
   "outputs": [],
   "source": [
    "messages = [line.rstrip() for line in open('smsspamcollection/SMSSpamCollection')]"
   ]
  },
  {
   "cell_type": "code",
   "execution_count": 106,
   "metadata": {},
   "outputs": [
    {
     "name": "stdout",
     "output_type": "stream",
     "text": [
      "5574\n"
     ]
    }
   ],
   "source": [
    "print(len(messages))"
   ]
  },
  {
   "cell_type": "code",
   "execution_count": 107,
   "metadata": {},
   "outputs": [
    {
     "data": {
      "text/plain": [
       "'ham\\tGo until jurong point, crazy.. Available only in bugis n great world la e buffet... Cine there got amore wat...'"
      ]
     },
     "execution_count": 107,
     "metadata": {},
     "output_type": "execute_result"
    }
   ],
   "source": [
    "messages[0]"
   ]
  },
  {
   "cell_type": "code",
   "execution_count": 108,
   "metadata": {},
   "outputs": [
    {
     "data": {
      "text/plain": [
       "'ham\\tWhat you thinked about me. First time you saw me in class.'"
      ]
     },
     "execution_count": 108,
     "metadata": {},
     "output_type": "execute_result"
    }
   ],
   "source": [
    "messages[50]"
   ]
  },
  {
   "cell_type": "code",
   "execution_count": 109,
   "metadata": {},
   "outputs": [
    {
     "name": "stdout",
     "output_type": "stream",
     "text": [
      "0 ham\tGo until jurong point, crazy.. Available only in bugis n great world la e buffet... Cine there got amore wat...\n",
      "\n",
      "\n",
      "1 ham\tOk lar... Joking wif u oni...\n",
      "\n",
      "\n",
      "2 spam\tFree entry in 2 a wkly comp to win FA Cup final tkts 21st May 2005. Text FA to 87121 to receive entry question(std txt rate)T&C's apply 08452810075over18's\n",
      "\n",
      "\n",
      "3 ham\tU dun say so early hor... U c already then say...\n",
      "\n",
      "\n",
      "4 ham\tNah I don't think he goes to usf, he lives around here though\n",
      "\n",
      "\n",
      "5 spam\tFreeMsg Hey there darling it's been 3 week's now and no word back! I'd like some fun you up for it still? Tb ok! XxX std chgs to send, Â£1.50 to rcv\n",
      "\n",
      "\n",
      "6 ham\tEven my brother is not like to speak with me. They treat me like aids patent.\n",
      "\n",
      "\n",
      "7 ham\tAs per your request 'Melle Melle (Oru Minnaminunginte Nurungu Vettam)' has been set as your callertune for all Callers. Press *9 to copy your friends Callertune\n",
      "\n",
      "\n",
      "8 spam\tWINNER!! As a valued network customer you have been selected to receivea Â£900 prize reward! To claim call 09061701461. Claim code KL341. Valid 12 hours only.\n",
      "\n",
      "\n",
      "9 spam\tHad your mobile 11 months or more? U R entitled to Update to the latest colour mobiles with camera for Free! Call The Mobile Update Co FREE on 08002986030\n",
      "\n",
      "\n"
     ]
    }
   ],
   "source": [
    "for mess_no,message in enumerate(messages[:10]):\n",
    "    print(mess_no,message)\n",
    "    print('\\n')"
   ]
  },
  {
   "cell_type": "code",
   "execution_count": 110,
   "metadata": {},
   "outputs": [],
   "source": [
    "#tsw tab separated "
   ]
  },
  {
   "cell_type": "code",
   "execution_count": 111,
   "metadata": {},
   "outputs": [
    {
     "data": {
      "text/plain": [
       "'ham\\tGo until jurong point, crazy.. Available only in bugis n great world la e buffet... Cine there got amore wat...'"
      ]
     },
     "execution_count": 111,
     "metadata": {},
     "output_type": "execute_result"
    }
   ],
   "source": [
    "messages[0]"
   ]
  },
  {
   "cell_type": "code",
   "execution_count": 112,
   "metadata": {},
   "outputs": [],
   "source": [
    "import pandas as pd"
   ]
  },
  {
   "cell_type": "code",
   "execution_count": 113,
   "metadata": {},
   "outputs": [],
   "source": [
    "messages = pd.read_csv('smsspamcollection/SMSSpamCollection',sep='\\t',names=['label','message'])"
   ]
  },
  {
   "cell_type": "code",
   "execution_count": 114,
   "metadata": {},
   "outputs": [
    {
     "data": {
      "text/html": [
       "<div>\n",
       "<style scoped>\n",
       "    .dataframe tbody tr th:only-of-type {\n",
       "        vertical-align: middle;\n",
       "    }\n",
       "\n",
       "    .dataframe tbody tr th {\n",
       "        vertical-align: top;\n",
       "    }\n",
       "\n",
       "    .dataframe thead th {\n",
       "        text-align: right;\n",
       "    }\n",
       "</style>\n",
       "<table border=\"1\" class=\"dataframe\">\n",
       "  <thead>\n",
       "    <tr style=\"text-align: right;\">\n",
       "      <th></th>\n",
       "      <th>label</th>\n",
       "      <th>message</th>\n",
       "    </tr>\n",
       "  </thead>\n",
       "  <tbody>\n",
       "    <tr>\n",
       "      <th>0</th>\n",
       "      <td>ham</td>\n",
       "      <td>Go until jurong point, crazy.. Available only ...</td>\n",
       "    </tr>\n",
       "    <tr>\n",
       "      <th>1</th>\n",
       "      <td>ham</td>\n",
       "      <td>Ok lar... Joking wif u oni...</td>\n",
       "    </tr>\n",
       "    <tr>\n",
       "      <th>2</th>\n",
       "      <td>spam</td>\n",
       "      <td>Free entry in 2 a wkly comp to win FA Cup fina...</td>\n",
       "    </tr>\n",
       "    <tr>\n",
       "      <th>3</th>\n",
       "      <td>ham</td>\n",
       "      <td>U dun say so early hor... U c already then say...</td>\n",
       "    </tr>\n",
       "    <tr>\n",
       "      <th>4</th>\n",
       "      <td>ham</td>\n",
       "      <td>Nah I don't think he goes to usf, he lives aro...</td>\n",
       "    </tr>\n",
       "  </tbody>\n",
       "</table>\n",
       "</div>"
      ],
      "text/plain": [
       "  label                                            message\n",
       "0   ham  Go until jurong point, crazy.. Available only ...\n",
       "1   ham                      Ok lar... Joking wif u oni...\n",
       "2  spam  Free entry in 2 a wkly comp to win FA Cup fina...\n",
       "3   ham  U dun say so early hor... U c already then say...\n",
       "4   ham  Nah I don't think he goes to usf, he lives aro..."
      ]
     },
     "execution_count": 114,
     "metadata": {},
     "output_type": "execute_result"
    }
   ],
   "source": [
    "messages.head()"
   ]
  },
  {
   "cell_type": "code",
   "execution_count": 115,
   "metadata": {},
   "outputs": [
    {
     "data": {
      "text/html": [
       "<div>\n",
       "<style scoped>\n",
       "    .dataframe tbody tr th:only-of-type {\n",
       "        vertical-align: middle;\n",
       "    }\n",
       "\n",
       "    .dataframe tbody tr th {\n",
       "        vertical-align: top;\n",
       "    }\n",
       "\n",
       "    .dataframe thead th {\n",
       "        text-align: right;\n",
       "    }\n",
       "</style>\n",
       "<table border=\"1\" class=\"dataframe\">\n",
       "  <thead>\n",
       "    <tr style=\"text-align: right;\">\n",
       "      <th></th>\n",
       "      <th>label</th>\n",
       "      <th>message</th>\n",
       "    </tr>\n",
       "  </thead>\n",
       "  <tbody>\n",
       "    <tr>\n",
       "      <th>count</th>\n",
       "      <td>5572</td>\n",
       "      <td>5572</td>\n",
       "    </tr>\n",
       "    <tr>\n",
       "      <th>unique</th>\n",
       "      <td>2</td>\n",
       "      <td>5169</td>\n",
       "    </tr>\n",
       "    <tr>\n",
       "      <th>top</th>\n",
       "      <td>ham</td>\n",
       "      <td>Sorry, I'll call later</td>\n",
       "    </tr>\n",
       "    <tr>\n",
       "      <th>freq</th>\n",
       "      <td>4825</td>\n",
       "      <td>30</td>\n",
       "    </tr>\n",
       "  </tbody>\n",
       "</table>\n",
       "</div>"
      ],
      "text/plain": [
       "       label                 message\n",
       "count   5572                    5572\n",
       "unique     2                    5169\n",
       "top      ham  Sorry, I'll call later\n",
       "freq    4825                      30"
      ]
     },
     "execution_count": 115,
     "metadata": {},
     "output_type": "execute_result"
    }
   ],
   "source": [
    "messages.describe()"
   ]
  },
  {
   "cell_type": "code",
   "execution_count": 116,
   "metadata": {},
   "outputs": [
    {
     "data": {
      "text/html": [
       "<div>\n",
       "<style scoped>\n",
       "    .dataframe tbody tr th:only-of-type {\n",
       "        vertical-align: middle;\n",
       "    }\n",
       "\n",
       "    .dataframe tbody tr th {\n",
       "        vertical-align: top;\n",
       "    }\n",
       "\n",
       "    .dataframe thead tr th {\n",
       "        text-align: left;\n",
       "    }\n",
       "\n",
       "    .dataframe thead tr:last-of-type th {\n",
       "        text-align: right;\n",
       "    }\n",
       "</style>\n",
       "<table border=\"1\" class=\"dataframe\">\n",
       "  <thead>\n",
       "    <tr>\n",
       "      <th></th>\n",
       "      <th colspan=\"4\" halign=\"left\">message</th>\n",
       "    </tr>\n",
       "    <tr>\n",
       "      <th></th>\n",
       "      <th>count</th>\n",
       "      <th>unique</th>\n",
       "      <th>top</th>\n",
       "      <th>freq</th>\n",
       "    </tr>\n",
       "    <tr>\n",
       "      <th>label</th>\n",
       "      <th></th>\n",
       "      <th></th>\n",
       "      <th></th>\n",
       "      <th></th>\n",
       "    </tr>\n",
       "  </thead>\n",
       "  <tbody>\n",
       "    <tr>\n",
       "      <th>ham</th>\n",
       "      <td>4825</td>\n",
       "      <td>4516</td>\n",
       "      <td>Sorry, I'll call later</td>\n",
       "      <td>30</td>\n",
       "    </tr>\n",
       "    <tr>\n",
       "      <th>spam</th>\n",
       "      <td>747</td>\n",
       "      <td>653</td>\n",
       "      <td>Please call our customer service representativ...</td>\n",
       "      <td>4</td>\n",
       "    </tr>\n",
       "  </tbody>\n",
       "</table>\n",
       "</div>"
      ],
      "text/plain": [
       "      message                                                               \n",
       "        count unique                                                top freq\n",
       "label                                                                       \n",
       "ham      4825   4516                             Sorry, I'll call later   30\n",
       "spam      747    653  Please call our customer service representativ...    4"
      ]
     },
     "execution_count": 116,
     "metadata": {},
     "output_type": "execute_result"
    }
   ],
   "source": [
    "messages.groupby('label').describe()"
   ]
  },
  {
   "cell_type": "code",
   "execution_count": 117,
   "metadata": {},
   "outputs": [
    {
     "data": {
      "text/html": [
       "<div>\n",
       "<style scoped>\n",
       "    .dataframe tbody tr th:only-of-type {\n",
       "        vertical-align: middle;\n",
       "    }\n",
       "\n",
       "    .dataframe tbody tr th {\n",
       "        vertical-align: top;\n",
       "    }\n",
       "\n",
       "    .dataframe thead th {\n",
       "        text-align: right;\n",
       "    }\n",
       "</style>\n",
       "<table border=\"1\" class=\"dataframe\">\n",
       "  <thead>\n",
       "    <tr style=\"text-align: right;\">\n",
       "      <th></th>\n",
       "      <th>label</th>\n",
       "      <th>message</th>\n",
       "    </tr>\n",
       "  </thead>\n",
       "  <tbody>\n",
       "    <tr>\n",
       "      <th>5567</th>\n",
       "      <td>spam</td>\n",
       "      <td>This is the 2nd time we have tried 2 contact u...</td>\n",
       "    </tr>\n",
       "    <tr>\n",
       "      <th>5568</th>\n",
       "      <td>ham</td>\n",
       "      <td>Will ü b going to esplanade fr home?</td>\n",
       "    </tr>\n",
       "    <tr>\n",
       "      <th>5569</th>\n",
       "      <td>ham</td>\n",
       "      <td>Pity, * was in mood for that. So...any other s...</td>\n",
       "    </tr>\n",
       "    <tr>\n",
       "      <th>5570</th>\n",
       "      <td>ham</td>\n",
       "      <td>The guy did some bitching but I acted like i'd...</td>\n",
       "    </tr>\n",
       "    <tr>\n",
       "      <th>5571</th>\n",
       "      <td>ham</td>\n",
       "      <td>Rofl. Its true to its name</td>\n",
       "    </tr>\n",
       "  </tbody>\n",
       "</table>\n",
       "</div>"
      ],
      "text/plain": [
       "     label                                            message\n",
       "5567  spam  This is the 2nd time we have tried 2 contact u...\n",
       "5568   ham               Will ü b going to esplanade fr home?\n",
       "5569   ham  Pity, * was in mood for that. So...any other s...\n",
       "5570   ham  The guy did some bitching but I acted like i'd...\n",
       "5571   ham                         Rofl. Its true to its name"
      ]
     },
     "execution_count": 117,
     "metadata": {},
     "output_type": "execute_result"
    }
   ],
   "source": [
    "messages.tail()"
   ]
  },
  {
   "cell_type": "code",
   "execution_count": 118,
   "metadata": {},
   "outputs": [],
   "source": [
    "messages['length']= messages['message'].apply(len)"
   ]
  },
  {
   "cell_type": "code",
   "execution_count": 119,
   "metadata": {},
   "outputs": [
    {
     "data": {
      "text/html": [
       "<div>\n",
       "<style scoped>\n",
       "    .dataframe tbody tr th:only-of-type {\n",
       "        vertical-align: middle;\n",
       "    }\n",
       "\n",
       "    .dataframe tbody tr th {\n",
       "        vertical-align: top;\n",
       "    }\n",
       "\n",
       "    .dataframe thead th {\n",
       "        text-align: right;\n",
       "    }\n",
       "</style>\n",
       "<table border=\"1\" class=\"dataframe\">\n",
       "  <thead>\n",
       "    <tr style=\"text-align: right;\">\n",
       "      <th></th>\n",
       "      <th>label</th>\n",
       "      <th>message</th>\n",
       "      <th>length</th>\n",
       "    </tr>\n",
       "  </thead>\n",
       "  <tbody>\n",
       "    <tr>\n",
       "      <th>0</th>\n",
       "      <td>ham</td>\n",
       "      <td>Go until jurong point, crazy.. Available only ...</td>\n",
       "      <td>111</td>\n",
       "    </tr>\n",
       "    <tr>\n",
       "      <th>1</th>\n",
       "      <td>ham</td>\n",
       "      <td>Ok lar... Joking wif u oni...</td>\n",
       "      <td>29</td>\n",
       "    </tr>\n",
       "    <tr>\n",
       "      <th>2</th>\n",
       "      <td>spam</td>\n",
       "      <td>Free entry in 2 a wkly comp to win FA Cup fina...</td>\n",
       "      <td>155</td>\n",
       "    </tr>\n",
       "    <tr>\n",
       "      <th>3</th>\n",
       "      <td>ham</td>\n",
       "      <td>U dun say so early hor... U c already then say...</td>\n",
       "      <td>49</td>\n",
       "    </tr>\n",
       "    <tr>\n",
       "      <th>4</th>\n",
       "      <td>ham</td>\n",
       "      <td>Nah I don't think he goes to usf, he lives aro...</td>\n",
       "      <td>61</td>\n",
       "    </tr>\n",
       "  </tbody>\n",
       "</table>\n",
       "</div>"
      ],
      "text/plain": [
       "  label                                            message  length\n",
       "0   ham  Go until jurong point, crazy.. Available only ...     111\n",
       "1   ham                      Ok lar... Joking wif u oni...      29\n",
       "2  spam  Free entry in 2 a wkly comp to win FA Cup fina...     155\n",
       "3   ham  U dun say so early hor... U c already then say...      49\n",
       "4   ham  Nah I don't think he goes to usf, he lives aro...      61"
      ]
     },
     "execution_count": 119,
     "metadata": {},
     "output_type": "execute_result"
    }
   ],
   "source": [
    "messages.head()"
   ]
  },
  {
   "cell_type": "code",
   "execution_count": 120,
   "metadata": {},
   "outputs": [],
   "source": [
    "import matplotlib.pyplot as plt\n",
    "import seaborn as sns"
   ]
  },
  {
   "cell_type": "code",
   "execution_count": 121,
   "metadata": {},
   "outputs": [],
   "source": [
    "%matplotlib inline"
   ]
  },
  {
   "cell_type": "code",
   "execution_count": 122,
   "metadata": {},
   "outputs": [
    {
     "data": {
      "text/plain": [
       "<matplotlib.axes._subplots.AxesSubplot at 0x170634164c8>"
      ]
     },
     "execution_count": 122,
     "metadata": {},
     "output_type": "execute_result"
    },
    {
     "data": {
      "image/png": "[encoded data removed]",
      "text/plain": [
       "<Figure size 432x288 with 1 Axes>"
      ]
     },
     "metadata": {
      "needs_background": "light"
     },
     "output_type": "display_data"
    }
   ],
   "source": [
    "messages['length'].plot.hist(bins=150)"
   ]
  },
  {
   "cell_type": "code",
   "execution_count": 123,
   "metadata": {},
   "outputs": [
    {
     "data": {
      "text/plain": [
       "count    5572.000000\n",
       "mean       80.489950\n",
       "std        59.942907\n",
       "min         2.000000\n",
       "25%        36.000000\n",
       "50%        62.000000\n",
       "75%       122.000000\n",
       "max       910.000000\n",
       "Name: length, dtype: float64"
      ]
     },
     "execution_count": 123,
     "metadata": {},
     "output_type": "execute_result"
    }
   ],
   "source": [
    "messages['length'].describe()"
   ]
  },
  {
   "cell_type": "code",
   "execution_count": 124,
   "metadata": {},
   "outputs": [
    {
     "data": {
      "text/plain": [
       "\"For me the love should start with attraction.i should feel that I need her every time around me.she should be the first thing which comes in my thoughts.I would start the day and end it with her.she should be there every time I dream.love will be then when my every breath has her name.my life should happen around her.my life will be named to her.I would cry for her.will give all my happiness and take all her sorrows.I will be ready to fight with anyone for her.I will be in love when I will be doing the craziest things for her.love will be when I don't have to proove anyone that my girl is the most beautiful lady on the whole planet.I will always be singing praises for her.love will be when I start up making chicken curry and end up makiing sambar.life will be the most beautiful then.will get every morning and thank god for the day because she is with me.I would like to say a lot..will tell later..\""
      ]
     },
     "execution_count": 124,
     "metadata": {},
     "output_type": "execute_result"
    }
   ],
   "source": [
    "messages[messages['length']==910]['message'].iloc[0]"
   ]
  },
  {
   "cell_type": "code",
   "execution_count": 125,
   "metadata": {},
   "outputs": [
    {
     "data": {
      "text/plain": [
       "array([<matplotlib.axes._subplots.AxesSubplot object at 0x0000017063434A08>,\n",
       "       <matplotlib.axes._subplots.AxesSubplot object at 0x000001706AE57908>],\n",
       "      dtype=object)"
      ]
     },
     "execution_count": 125,
     "metadata": {},
     "output_type": "execute_result"
    },
    {
     "data": {
      "image/png": "[encoded data removed]",
      "text/plain": [
       "<Figure size 720x432 with 2 Axes>"
      ]
     },
     "metadata": {
      "needs_background": "light"
     },
     "output_type": "display_data"
    }
   ],
   "source": [
    "messages.hist(column='length',by='label',bins=60,figsize=(10,6))"
   ]
  },
  {
   "cell_type": "code",
   "execution_count": 126,
   "metadata": {},
   "outputs": [],
   "source": [
    "import string"
   ]
  },
  {
   "cell_type": "code",
   "execution_count": 127,
   "metadata": {},
   "outputs": [],
   "source": [
    "mess = 'Sample message! Notice: it has punctuation'"
   ]
  },
  {
   "cell_type": "code",
   "execution_count": 128,
   "metadata": {},
   "outputs": [],
   "source": [
    "nopunc = [c for c in mess if c not in string.punctuation]"
   ]
  },
  {
   "cell_type": "code",
   "execution_count": 129,
   "metadata": {},
   "outputs": [
    {
     "data": {
      "text/plain": [
       "['S',\n",
       " 'a',\n",
       " 'm',\n",
       " 'p',\n",
       " 'l',\n",
       " 'e',\n",
       " ' ',\n",
       " 'm',\n",
       " 'e',\n",
       " 's',\n",
       " 's',\n",
       " 'a',\n",
       " 'g',\n",
       " 'e',\n",
       " ' ',\n",
       " 'N',\n",
       " 'o',\n",
       " 't',\n",
       " 'i',\n",
       " 'c',\n",
       " 'e',\n",
       " ' ',\n",
       " 'i',\n",
       " 't',\n",
       " ' ',\n",
       " 'h',\n",
       " 'a',\n",
       " 's',\n",
       " ' ',\n",
       " 'p',\n",
       " 'u',\n",
       " 'n',\n",
       " 'c',\n",
       " 't',\n",
       " 'u',\n",
       " 'a',\n",
       " 't',\n",
       " 'i',\n",
       " 'o',\n",
       " 'n']"
      ]
     },
     "execution_count": 129,
     "metadata": {},
     "output_type": "execute_result"
    }
   ],
   "source": [
    "nopunc"
   ]
  },
  {
   "cell_type": "code",
   "execution_count": 130,
   "metadata": {},
   "outputs": [],
   "source": [
    "from nltk.corpus import stopwords"
   ]
  },
  {
   "cell_type": "code",
   "execution_count": 131,
   "metadata": {},
   "outputs": [
    {
     "data": {
      "text/plain": [
       "['i',\n",
       " 'me',\n",
       " 'my',\n",
       " 'myself',\n",
       " 'we',\n",
       " 'our',\n",
       " 'ours',\n",
       " 'ourselves',\n",
       " 'you',\n",
       " \"you're\",\n",
       " \"you've\",\n",
       " \"you'll\",\n",
       " \"you'd\",\n",
       " 'your',\n",
       " 'yours',\n",
       " 'yourself',\n",
       " 'yourselves',\n",
       " 'he',\n",
       " 'him',\n",
       " 'his',\n",
       " 'himself',\n",
       " 'she',\n",
       " \"she's\",\n",
       " 'her',\n",
       " 'hers',\n",
       " 'herself',\n",
       " 'it',\n",
       " \"it's\",\n",
       " 'its',\n",
       " 'itself',\n",
       " 'they',\n",
       " 'them',\n",
       " 'their',\n",
       " 'theirs',\n",
       " 'themselves',\n",
       " 'what',\n",
       " 'which',\n",
       " 'who',\n",
       " 'whom',\n",
       " 'this',\n",
       " 'that',\n",
       " \"that'll\",\n",
       " 'these',\n",
       " 'those',\n",
       " 'am',\n",
       " 'is',\n",
       " 'are',\n",
       " 'was',\n",
       " 'were',\n",
       " 'be',\n",
       " 'been',\n",
       " 'being',\n",
       " 'have',\n",
       " 'has',\n",
       " 'had',\n",
       " 'having',\n",
       " 'do',\n",
       " 'does',\n",
       " 'did',\n",
       " 'doing',\n",
       " 'a',\n",
       " 'an',\n",
       " 'the',\n",
       " 'and',\n",
       " 'but',\n",
       " 'if',\n",
       " 'or',\n",
       " 'because',\n",
       " 'as',\n",
       " 'until',\n",
       " 'while',\n",
       " 'of',\n",
       " 'at',\n",
       " 'by',\n",
       " 'for',\n",
       " 'with',\n",
       " 'about',\n",
       " 'against',\n",
       " 'between',\n",
       " 'into',\n",
       " 'through',\n",
       " 'during',\n",
       " 'before',\n",
       " 'after',\n",
       " 'above',\n",
       " 'below',\n",
       " 'to',\n",
       " 'from',\n",
       " 'up',\n",
       " 'down',\n",
       " 'in',\n",
       " 'out',\n",
       " 'on',\n",
       " 'off',\n",
       " 'over',\n",
       " 'under',\n",
       " 'again',\n",
       " 'further',\n",
       " 'then',\n",
       " 'once',\n",
       " 'here',\n",
       " 'there',\n",
       " 'when',\n",
       " 'where',\n",
       " 'why',\n",
       " 'how',\n",
       " 'all',\n",
       " 'any',\n",
       " 'both',\n",
       " 'each',\n",
       " 'few',\n",
       " 'more',\n",
       " 'most',\n",
       " 'other',\n",
       " 'some',\n",
       " 'such',\n",
       " 'no',\n",
       " 'nor',\n",
       " 'not',\n",
       " 'only',\n",
       " 'own',\n",
       " 'same',\n",
       " 'so',\n",
       " 'than',\n",
       " 'too',\n",
       " 'very',\n",
       " 's',\n",
       " 't',\n",
       " 'can',\n",
       " 'will',\n",
       " 'just',\n",
       " 'don',\n",
       " \"don't\",\n",
       " 'should',\n",
       " \"should've\",\n",
       " 'now',\n",
       " 'd',\n",
       " 'll',\n",
       " 'm',\n",
       " 'o',\n",
       " 're',\n",
       " 've',\n",
       " 'y',\n",
       " 'ain',\n",
       " 'aren',\n",
       " \"aren't\",\n",
       " 'couldn',\n",
       " \"couldn't\",\n",
       " 'didn',\n",
       " \"didn't\",\n",
       " 'doesn',\n",
       " \"doesn't\",\n",
       " 'hadn',\n",
       " \"hadn't\",\n",
       " 'hasn',\n",
       " \"hasn't\",\n",
       " 'haven',\n",
       " \"haven't\",\n",
       " 'isn',\n",
       " \"isn't\",\n",
       " 'ma',\n",
       " 'mightn',\n",
       " \"mightn't\",\n",
       " 'mustn',\n",
       " \"mustn't\",\n",
       " 'needn',\n",
       " \"needn't\",\n",
       " 'shan',\n",
       " \"shan't\",\n",
       " 'shouldn',\n",
       " \"shouldn't\",\n",
       " 'wasn',\n",
       " \"wasn't\",\n",
       " 'weren',\n",
       " \"weren't\",\n",
       " 'won',\n",
       " \"won't\",\n",
       " 'wouldn',\n",
       " \"wouldn't\"]"
      ]
     },
     "execution_count": 131,
     "metadata": {},
     "output_type": "execute_result"
    }
   ],
   "source": [
    "stopwords.words('english')"
   ]
  },
  {
   "cell_type": "code",
   "execution_count": 132,
   "metadata": {},
   "outputs": [
    {
     "data": {
      "text/plain": [
       "['au',\n",
       " 'aux',\n",
       " 'avec',\n",
       " 'ce',\n",
       " 'ces',\n",
       " 'dans',\n",
       " 'de',\n",
       " 'des',\n",
       " 'du',\n",
       " 'elle',\n",
       " 'en',\n",
       " 'et',\n",
       " 'eux',\n",
       " 'il',\n",
       " 'ils',\n",
       " 'je',\n",
       " 'la',\n",
       " 'le',\n",
       " 'les',\n",
       " 'leur',\n",
       " 'lui',\n",
       " 'ma',\n",
       " 'mais',\n",
       " 'me',\n",
       " 'même',\n",
       " 'mes',\n",
       " 'moi',\n",
       " 'mon',\n",
       " 'ne',\n",
       " 'nos',\n",
       " 'notre',\n",
       " 'nous',\n",
       " 'on',\n",
       " 'ou',\n",
       " 'par',\n",
       " 'pas',\n",
       " 'pour',\n",
       " 'qu',\n",
       " 'que',\n",
       " 'qui',\n",
       " 'sa',\n",
       " 'se',\n",
       " 'ses',\n",
       " 'son',\n",
       " 'sur',\n",
       " 'ta',\n",
       " 'te',\n",
       " 'tes',\n",
       " 'toi',\n",
       " 'ton',\n",
       " 'tu',\n",
       " 'un',\n",
       " 'une',\n",
       " 'vos',\n",
       " 'votre',\n",
       " 'vous',\n",
       " 'c',\n",
       " 'd',\n",
       " 'j',\n",
       " 'l',\n",
       " 'à',\n",
       " 'm',\n",
       " 'n',\n",
       " 's',\n",
       " 't',\n",
       " 'y',\n",
       " 'été',\n",
       " 'étée',\n",
       " 'étées',\n",
       " 'étés',\n",
       " 'étant',\n",
       " 'étante',\n",
       " 'étants',\n",
       " 'étantes',\n",
       " 'suis',\n",
       " 'es',\n",
       " 'est',\n",
       " 'sommes',\n",
       " 'êtes',\n",
       " 'sont',\n",
       " 'serai',\n",
       " 'seras',\n",
       " 'sera',\n",
       " 'serons',\n",
       " 'serez',\n",
       " 'seront',\n",
       " 'serais',\n",
       " 'serait',\n",
       " 'serions',\n",
       " 'seriez',\n",
       " 'seraient',\n",
       " 'étais',\n",
       " 'était',\n",
       " 'étions',\n",
       " 'étiez',\n",
       " 'étaient',\n",
       " 'fus',\n",
       " 'fut',\n",
       " 'fûmes',\n",
       " 'fûtes',\n",
       " 'furent',\n",
       " 'sois',\n",
       " 'soit',\n",
       " 'soyons',\n",
       " 'soyez',\n",
       " 'soient',\n",
       " 'fusse',\n",
       " 'fusses',\n",
       " 'fût',\n",
       " 'fussions',\n",
       " 'fussiez',\n",
       " 'fussent',\n",
       " 'ayant',\n",
       " 'ayante',\n",
       " 'ayantes',\n",
       " 'ayants',\n",
       " 'eu',\n",
       " 'eue',\n",
       " 'eues',\n",
       " 'eus',\n",
       " 'ai',\n",
       " 'as',\n",
       " 'avons',\n",
       " 'avez',\n",
       " 'ont',\n",
       " 'aurai',\n",
       " 'auras',\n",
       " 'aura',\n",
       " 'aurons',\n",
       " 'aurez',\n",
       " 'auront',\n",
       " 'aurais',\n",
       " 'aurait',\n",
       " 'aurions',\n",
       " 'auriez',\n",
       " 'auraient',\n",
       " 'avais',\n",
       " 'avait',\n",
       " 'avions',\n",
       " 'aviez',\n",
       " 'avaient',\n",
       " 'eut',\n",
       " 'eûmes',\n",
       " 'eûtes',\n",
       " 'eurent',\n",
       " 'aie',\n",
       " 'aies',\n",
       " 'ait',\n",
       " 'ayons',\n",
       " 'ayez',\n",
       " 'aient',\n",
       " 'eusse',\n",
       " 'eusses',\n",
       " 'eût',\n",
       " 'eussions',\n",
       " 'eussiez',\n",
       " 'eussent']"
      ]
     },
     "execution_count": 132,
     "metadata": {},
     "output_type": "execute_result"
    }
   ],
   "source": [
    "stopwords.words('french')"
   ]
  },
  {
   "cell_type": "code",
   "execution_count": 133,
   "metadata": {},
   "outputs": [],
   "source": [
    "nopunc = ''.join(nopunc)"
   ]
  },
  {
   "cell_type": "code",
   "execution_count": 134,
   "metadata": {},
   "outputs": [
    {
     "data": {
      "text/plain": [
       "'Sample message Notice it has punctuation'"
      ]
     },
     "execution_count": 134,
     "metadata": {},
     "output_type": "execute_result"
    }
   ],
   "source": [
    "nopunc"
   ]
  },
  {
   "cell_type": "code",
   "execution_count": 135,
   "metadata": {},
   "outputs": [],
   "source": [
    "x= ['a','b','c','d']"
   ]
  },
  {
   "cell_type": "code",
   "execution_count": 136,
   "metadata": {},
   "outputs": [
    {
     "data": {
      "text/plain": [
       "'abcd'"
      ]
     },
     "execution_count": 136,
     "metadata": {},
     "output_type": "execute_result"
    }
   ],
   "source": [
    "''.join(x)"
   ]
  },
  {
   "cell_type": "code",
   "execution_count": 137,
   "metadata": {},
   "outputs": [
    {
     "data": {
      "text/plain": [
       "'a++b++c++d'"
      ]
     },
     "execution_count": 137,
     "metadata": {},
     "output_type": "execute_result"
    }
   ],
   "source": [
    "'++'.join(x)"
   ]
  },
  {
   "cell_type": "code",
   "execution_count": 138,
   "metadata": {},
   "outputs": [
    {
     "data": {
      "text/plain": [
       "'a@b@c@d'"
      ]
     },
     "execution_count": 138,
     "metadata": {},
     "output_type": "execute_result"
    }
   ],
   "source": [
    "'@'.join(x)"
   ]
  },
  {
   "cell_type": "code",
   "execution_count": 139,
   "metadata": {},
   "outputs": [
    {
     "data": {
      "text/plain": [
       "'Sample message Notice it has punctuation'"
      ]
     },
     "execution_count": 139,
     "metadata": {},
     "output_type": "execute_result"
    }
   ],
   "source": [
    "nopunc"
   ]
  },
  {
   "cell_type": "code",
   "execution_count": 140,
   "metadata": {},
   "outputs": [
    {
     "data": {
      "text/plain": [
       "['Sample', 'message', 'Notice', 'it', 'has', 'punctuation']"
      ]
     },
     "execution_count": 140,
     "metadata": {},
     "output_type": "execute_result"
    }
   ],
   "source": [
    "nopunc.split()"
   ]
  },
  {
   "cell_type": "code",
   "execution_count": 141,
   "metadata": {},
   "outputs": [],
   "source": [
    "clean_mess = [word for word in nopunc.split() if word.lower() not in stopwords.words('english')]"
   ]
  },
  {
   "cell_type": "code",
   "execution_count": 142,
   "metadata": {},
   "outputs": [
    {
     "data": {
      "text/plain": [
       "['Sample', 'message', 'Notice', 'punctuation']"
      ]
     },
     "execution_count": 142,
     "metadata": {},
     "output_type": "execute_result"
    }
   ],
   "source": [
    "clean_mess"
   ]
  },
  {
   "cell_type": "code",
   "execution_count": 143,
   "metadata": {},
   "outputs": [],
   "source": [
    "def text_process(mess):\n",
    "    \"\"\"\n",
    "    1.remove punc \n",
    "    2.remove stop words\n",
    "    3.return list of clean text words\n",
    "    \"\"\"\n",
    "    nopunc = [char for char in mess if char not in string.punctuation]\n",
    "    nopunc = ''.join(nopunc)\n",
    "    return [word for word in nopunc.split() if word.lower not in stopwords.words('english')]"
   ]
  },
  {
   "cell_type": "code",
   "execution_count": 144,
   "metadata": {},
   "outputs": [
    {
     "data": {
      "text/html": [
       "<div>\n",
       "<style scoped>\n",
       "    .dataframe tbody tr th:only-of-type {\n",
       "        vertical-align: middle;\n",
       "    }\n",
       "\n",
       "    .dataframe tbody tr th {\n",
       "        vertical-align: top;\n",
       "    }\n",
       "\n",
       "    .dataframe thead th {\n",
       "        text-align: right;\n",
       "    }\n",
       "</style>\n",
       "<table border=\"1\" class=\"dataframe\">\n",
       "  <thead>\n",
       "    <tr style=\"text-align: right;\">\n",
       "      <th></th>\n",
       "      <th>label</th>\n",
       "      <th>message</th>\n",
       "      <th>length</th>\n",
       "    </tr>\n",
       "  </thead>\n",
       "  <tbody>\n",
       "    <tr>\n",
       "      <th>0</th>\n",
       "      <td>ham</td>\n",
       "      <td>Go until jurong point, crazy.. Available only ...</td>\n",
       "      <td>111</td>\n",
       "    </tr>\n",
       "    <tr>\n",
       "      <th>1</th>\n",
       "      <td>ham</td>\n",
       "      <td>Ok lar... Joking wif u oni...</td>\n",
       "      <td>29</td>\n",
       "    </tr>\n",
       "    <tr>\n",
       "      <th>2</th>\n",
       "      <td>spam</td>\n",
       "      <td>Free entry in 2 a wkly comp to win FA Cup fina...</td>\n",
       "      <td>155</td>\n",
       "    </tr>\n",
       "    <tr>\n",
       "      <th>3</th>\n",
       "      <td>ham</td>\n",
       "      <td>U dun say so early hor... U c already then say...</td>\n",
       "      <td>49</td>\n",
       "    </tr>\n",
       "    <tr>\n",
       "      <th>4</th>\n",
       "      <td>ham</td>\n",
       "      <td>Nah I don't think he goes to usf, he lives aro...</td>\n",
       "      <td>61</td>\n",
       "    </tr>\n",
       "  </tbody>\n",
       "</table>\n",
       "</div>"
      ],
      "text/plain": [
       "  label                                            message  length\n",
       "0   ham  Go until jurong point, crazy.. Available only ...     111\n",
       "1   ham                      Ok lar... Joking wif u oni...      29\n",
       "2  spam  Free entry in 2 a wkly comp to win FA Cup fina...     155\n",
       "3   ham  U dun say so early hor... U c already then say...      49\n",
       "4   ham  Nah I don't think he goes to usf, he lives aro...      61"
      ]
     },
     "execution_count": 144,
     "metadata": {},
     "output_type": "execute_result"
    }
   ],
   "source": [
    "messages.head()"
   ]
  },
  {
   "cell_type": "code",
   "execution_count": 145,
   "metadata": {},
   "outputs": [
    {
     "data": {
      "text/plain": [
       "0    [Go, until, jurong, point, crazy, Available, o...\n",
       "1                       [Ok, lar, Joking, wif, u, oni]\n",
       "2    [Free, entry, in, 2, a, wkly, comp, to, win, F...\n",
       "3    [U, dun, say, so, early, hor, U, c, already, t...\n",
       "4    [Nah, I, dont, think, he, goes, to, usf, he, l...\n",
       "Name: message, dtype: object"
      ]
     },
     "execution_count": 145,
     "metadata": {},
     "output_type": "execute_result"
    }
   ],
   "source": [
    "messages['message'].head(5).apply(text_process)"
   ]
  },
  {
   "cell_type": "code",
   "execution_count": 146,
   "metadata": {},
   "outputs": [],
   "source": [
    "from sklearn.feature_extraction.text import CountVectorizer"
   ]
  },
  {
   "cell_type": "code",
   "execution_count": 147,
   "metadata": {},
   "outputs": [],
   "source": [
    "bow_transformer = CountVectorizer(analyzer=text_process).fit(messages['message'])"
   ]
  },
  {
   "cell_type": "code",
   "execution_count": 148,
   "metadata": {},
   "outputs": [
    {
     "name": "stdout",
     "output_type": "stream",
     "text": [
      "11747\n"
     ]
    }
   ],
   "source": [
    "print(len(bow_transformer.vocabulary_))"
   ]
  },
  {
   "cell_type": "code",
   "execution_count": 149,
   "metadata": {},
   "outputs": [],
   "source": [
    "mess4 = messages['message'][3]"
   ]
  },
  {
   "cell_type": "code",
   "execution_count": 150,
   "metadata": {},
   "outputs": [
    {
     "name": "stdout",
     "output_type": "stream",
     "text": [
      "U dun say so early hor... U c already then say...\n"
     ]
    }
   ],
   "source": [
    "print(mess4)"
   ]
  },
  {
   "cell_type": "code",
   "execution_count": 151,
   "metadata": {},
   "outputs": [],
   "source": [
    "bow4 = bow_transformer.transform([mess4])"
   ]
  },
  {
   "cell_type": "code",
   "execution_count": 152,
   "metadata": {},
   "outputs": [
    {
     "name": "stdout",
     "output_type": "stream",
     "text": [
      "  (0, 4221)\t2\n",
      "  (0, 4828)\t1\n",
      "  (0, 5476)\t1\n",
      "  (0, 6427)\t1\n",
      "  (0, 6447)\t1\n",
      "  (0, 7427)\t1\n",
      "  (0, 9832)\t2\n",
      "  (0, 10174)\t1\n",
      "  (0, 10703)\t1\n"
     ]
    }
   ],
   "source": [
    "print(bow4)"
   ]
  },
  {
   "cell_type": "code",
   "execution_count": 153,
   "metadata": {},
   "outputs": [
    {
     "name": "stdout",
     "output_type": "stream",
     "text": [
      "(1, 11747)\n"
     ]
    }
   ],
   "source": [
    "print(bow4.shape)"
   ]
  },
  {
   "cell_type": "code",
   "execution_count": 154,
   "metadata": {},
   "outputs": [
    {
     "data": {
      "text/plain": [
       "'U'"
      ]
     },
     "execution_count": 154,
     "metadata": {},
     "output_type": "execute_result"
    }
   ],
   "source": [
    "bow_transformer.get_feature_names()[4221]"
   ]
  },
  {
   "cell_type": "code",
   "execution_count": 155,
   "metadata": {},
   "outputs": [
    {
     "data": {
      "text/plain": [
       "{'Go': 2113,\n",
       " 'until': 11060,\n",
       " 'jurong': 7805,\n",
       " 'point': 9192,\n",
       " 'crazy': 5985,\n",
       " 'Available': 1133,\n",
       " 'only': 8863,\n",
       " 'in': 7574,\n",
       " 'bugis': 5431,\n",
       " 'n': 8595,\n",
       " 'great': 7166,\n",
       " 'world': 11480,\n",
       " 'la': 7919,\n",
       " 'e': 6441,\n",
       " 'buffet': 5430,\n",
       " 'Cine': 1521,\n",
       " 'there': 10708,\n",
       " 'got': 7135,\n",
       " 'amore': 4853,\n",
       " 'wat': 11269,\n",
       " 'Ok': 3177,\n",
       " 'lar': 7952,\n",
       " 'Joking': 2535,\n",
       " 'wif': 11386,\n",
       " 'u': 10996,\n",
       " 'oni': 8858,\n",
       " 'Free': 1993,\n",
       " 'entry': 6556,\n",
       " '2': 423,\n",
       " 'a': 4651,\n",
       " 'wkly': 11439,\n",
       " 'comp': 5835,\n",
       " 'to': 10815,\n",
       " 'win': 11399,\n",
       " 'FA': 1882,\n",
       " 'Cup': 1589,\n",
       " 'final': 6783,\n",
       " 'tkts': 10808,\n",
       " '21st': 443,\n",
       " 'May': 2896,\n",
       " '2005': 430,\n",
       " 'Text': 4095,\n",
       " '87121': 871,\n",
       " 'receive': 9528,\n",
       " 'questionstd': 9434,\n",
       " 'txt': 10984,\n",
       " 'rateTCs': 9475,\n",
       " 'apply': 4934,\n",
       " '08452810075over18s': 73,\n",
       " 'U': 4221,\n",
       " 'dun': 6427,\n",
       " 'say': 9832,\n",
       " 'so': 10174,\n",
       " 'early': 6447,\n",
       " 'hor': 7427,\n",
       " 'c': 5476,\n",
       " 'already': 4828,\n",
       " 'then': 10703,\n",
       " 'Nah': 3047,\n",
       " 'I': 2362,\n",
       " 'dont': 6345,\n",
       " 'think': 10726,\n",
       " 'he': 7290,\n",
       " 'goes': 7106,\n",
       " 'usf': 11100,\n",
       " 'lives': 8093,\n",
       " 'around': 4981,\n",
       " 'here': 7336,\n",
       " 'though': 10745,\n",
       " 'FreeMsg': 1995,\n",
       " 'Hey': 2290,\n",
       " 'darling': 6081,\n",
       " 'its': 7710,\n",
       " 'been': 5189,\n",
       " '3': 543,\n",
       " 'weeks': 11316,\n",
       " 'now': 8751,\n",
       " 'and': 4865,\n",
       " 'no': 8708,\n",
       " 'word': 11467,\n",
       " 'back': 5099,\n",
       " 'Id': 2424,\n",
       " 'like': 8051,\n",
       " 'some': 10187,\n",
       " 'fun': 6983,\n",
       " 'you': 11632,\n",
       " 'up': 11062,\n",
       " 'for': 6880,\n",
       " 'it': 7693,\n",
       " 'still': 10375,\n",
       " 'Tb': 4072,\n",
       " 'ok': 8833,\n",
       " 'XxX': 4564,\n",
       " 'std': 10355,\n",
       " 'chgs': 5683,\n",
       " 'send': 9919,\n",
       " '£150': 11693,\n",
       " 'rcv': 9484,\n",
       " 'Even': 1851,\n",
       " 'my': 8588,\n",
       " 'brother': 5406,\n",
       " 'is': 7678,\n",
       " 'not': 8737,\n",
       " 'speak': 10253,\n",
       " 'with': 11425,\n",
       " 'me': 8327,\n",
       " 'They': 4123,\n",
       " 'treat': 10927,\n",
       " 'aids': 4788,\n",
       " 'patent': 9036,\n",
       " 'As': 1115,\n",
       " 'per': 9071,\n",
       " 'your': 11648,\n",
       " 'request': 9632,\n",
       " 'Melle': 2907,\n",
       " 'Oru': 3215,\n",
       " 'Minnaminunginte': 2926,\n",
       " 'Nurungu': 3125,\n",
       " 'Vettam': 4329,\n",
       " 'has': 7272,\n",
       " 'set': 9942,\n",
       " 'as': 4995,\n",
       " 'callertune': 5507,\n",
       " 'all': 4815,\n",
       " 'Callers': 1458,\n",
       " 'Press': 3399,\n",
       " '9': 909,\n",
       " 'copy': 5932,\n",
       " 'friends': 6946,\n",
       " 'Callertune': 1459,\n",
       " 'WINNER': 4391,\n",
       " 'valued': 11129,\n",
       " 'network': 8665,\n",
       " 'customer': 6036,\n",
       " 'have': 7282,\n",
       " 'selected': 9906,\n",
       " 'receivea': 9529,\n",
       " '£900': 11734,\n",
       " 'prize': 9333,\n",
       " 'reward': 9689,\n",
       " 'To': 4161,\n",
       " 'claim': 5735,\n",
       " 'call': 5490,\n",
       " '09061701461': 219,\n",
       " 'Claim': 1523,\n",
       " 'code': 5790,\n",
       " 'KL341': 2562,\n",
       " 'Valid': 4319,\n",
       " '12': 326,\n",
       " 'hours': 7442,\n",
       " 'Had': 2232,\n",
       " 'mobile': 8471,\n",
       " '11': 315,\n",
       " 'months': 8506,\n",
       " 'or': 8892,\n",
       " 'more': 8509,\n",
       " 'R': 3442,\n",
       " 'entitled': 6553,\n",
       " 'Update': 4285,\n",
       " 'the': 10692,\n",
       " 'latest': 7967,\n",
       " 'colour': 5810,\n",
       " 'mobiles': 8472,\n",
       " 'camera': 5519,\n",
       " 'Call': 1454,\n",
       " 'The': 4109,\n",
       " 'Mobile': 2945,\n",
       " 'Co': 1530,\n",
       " 'FREE': 1915,\n",
       " 'on': 8851,\n",
       " '08002986030': 58,\n",
       " 'Im': 2431,\n",
       " 'gonna': 7119,\n",
       " 'be': 5165,\n",
       " 'home': 7400,\n",
       " 'soon': 10213,\n",
       " 'i': 7516,\n",
       " 'want': 11248,\n",
       " 'talk': 10586,\n",
       " 'about': 4663,\n",
       " 'this': 10734,\n",
       " 'stuff': 10435,\n",
       " 'anymore': 4904,\n",
       " 'tonight': 10854,\n",
       " 'k': 7812,\n",
       " 'Ive': 2477,\n",
       " 'cried': 5999,\n",
       " 'enough': 6544,\n",
       " 'today': 10821,\n",
       " 'SIX': 3621,\n",
       " 'chances': 5627,\n",
       " 'CASH': 1390,\n",
       " 'From': 2009,\n",
       " '100': 294,\n",
       " '20000': 427,\n",
       " 'pounds': 9250,\n",
       " 'CSH11': 1442,\n",
       " '87575': 875,\n",
       " 'Cost': 1562,\n",
       " '150pday': 364,\n",
       " '6days': 763,\n",
       " '16': 382,\n",
       " 'TsandCs': 4201,\n",
       " 'Reply': 3536,\n",
       " 'HL': 2199,\n",
       " '4': 605,\n",
       " 'info': 7599,\n",
       " 'URGENT': 4244,\n",
       " 'You': 4628,\n",
       " 'won': 11455,\n",
       " '1': 292,\n",
       " 'week': 11311,\n",
       " 'membership': 8365,\n",
       " 'our': 8921,\n",
       " '£100000': 11687,\n",
       " 'Prize': 3404,\n",
       " 'Jackpot': 2505,\n",
       " 'Txt': 4215,\n",
       " 'CLAIM': 1415,\n",
       " 'No': 3087,\n",
       " '81010': 821,\n",
       " 'TC': 3981,\n",
       " 'wwwdbuknet': 11548,\n",
       " 'LCCLTD': 2636,\n",
       " 'POBOX': 3259,\n",
       " '4403LDNW1A7RW18': 626,\n",
       " 'searching': 9875,\n",
       " 'right': 9698,\n",
       " 'words': 11471,\n",
       " 'thank': 10676,\n",
       " 'breather': 5379,\n",
       " 'promise': 9367,\n",
       " 'wont': 11462,\n",
       " 'take': 10578,\n",
       " 'help': 7324,\n",
       " 'granted': 7158,\n",
       " 'will': 11396,\n",
       " 'fulfil': 6979,\n",
       " 'wonderful': 11459,\n",
       " 'blessing': 5287,\n",
       " 'at': 5024,\n",
       " 'times': 10787,\n",
       " 'HAVE': 2175,\n",
       " 'A': 933,\n",
       " 'DATE': 1607,\n",
       " 'ON': 3146,\n",
       " 'SUNDAY': 3694,\n",
       " 'WITH': 4394,\n",
       " 'WILL': 4389,\n",
       " 'XXXMobileMovieClub': 4555,\n",
       " 'use': 11094,\n",
       " 'credit': 5990,\n",
       " 'click': 5756,\n",
       " 'WAP': 4359,\n",
       " 'link': 8069,\n",
       " 'next': 8679,\n",
       " 'message': 8388,\n",
       " 'httpwap': 7466,\n",
       " 'xxxmobilemovieclubcomnQJKGIGHJJGCBL': 11590,\n",
       " 'Oh': 3172,\n",
       " 'kim': 7869,\n",
       " 'watching': 11274,\n",
       " 'Eh': 1818,\n",
       " 'remember': 9595,\n",
       " 'how': 7448,\n",
       " 'spell': 10267,\n",
       " 'his': 7373,\n",
       " 'name': 8607,\n",
       " 'Yes': 4613,\n",
       " 'did': 6230,\n",
       " 'He': 2261,\n",
       " 'v': 11117,\n",
       " 'naughty': 8627,\n",
       " 'make': 8254,\n",
       " 'wet': 11346,\n",
       " 'Fine': 1965,\n",
       " 'if': 7541,\n",
       " 'that\\x92s': 10690,\n",
       " 'way': 11283,\n",
       " 'feel': 6742,\n",
       " 'That\\x92s': 4107,\n",
       " 'gota': 7136,\n",
       " 'b': 5086,\n",
       " 'England': 1833,\n",
       " 'Macedonia': 2864,\n",
       " 'miss': 8446,\n",
       " 'goalsteam': 7099,\n",
       " 'news': 8674,\n",
       " 'ur': 11078,\n",
       " 'national': 8621,\n",
       " 'team': 10621,\n",
       " '87077': 870,\n",
       " 'eg': 6483,\n",
       " 'ENGLAND': 1776,\n",
       " 'TryWALES': 4195,\n",
       " 'SCOTLAND': 3584,\n",
       " '4txtú120': 677,\n",
       " 'POBOXox36504W45WQ': 3262,\n",
       " 'Is': 2464,\n",
       " 'that': 10682,\n",
       " 'seriously': 9936,\n",
       " 'I‘m': 2484,\n",
       " 'going': 7111,\n",
       " 'try': 10953,\n",
       " 'ha': 7221,\n",
       " 'joking': 7784,\n",
       " 'So': 3851,\n",
       " 'ü': 11740,\n",
       " 'pay': 9044,\n",
       " 'first': 6810,\n",
       " 'Then': 4115,\n",
       " 'when': 11358,\n",
       " 'da': 6049,\n",
       " 'stock': 10379,\n",
       " 'comin': 5825,\n",
       " 'Aft': 1032,\n",
       " 'finish': 6796,\n",
       " 'lunch': 8199,\n",
       " 'go': 7093,\n",
       " 'str': 10399,\n",
       " 'down': 6362,\n",
       " 'lor': 8140,\n",
       " 'Ard': 1104,\n",
       " 'smth': 10161,\n",
       " 'Ffffffffff': 1956,\n",
       " 'Alright': 1069,\n",
       " 'can': 5524,\n",
       " 'meet': 8347,\n",
       " 'sooner': 10214,\n",
       " 'Just': 2551,\n",
       " 'forced': 6882,\n",
       " 'myself': 8593,\n",
       " 'eat': 6459,\n",
       " 'slice': 10116,\n",
       " 'really': 9510,\n",
       " 'hungry': 7491,\n",
       " 'tho': 10740,\n",
       " 'This': 4132,\n",
       " 'sucks': 10468,\n",
       " 'Mark': 2886,\n",
       " 'getting': 7061,\n",
       " 'worried': 11486,\n",
       " 'knows': 7894,\n",
       " 'sick': 10044,\n",
       " 'turn': 10970,\n",
       " 'pizza': 9144,\n",
       " 'Lol': 2733,\n",
       " 'always': 4840,\n",
       " 'convincing': 5919,\n",
       " 'Did': 1706,\n",
       " 'catch': 5590,\n",
       " 'bus': 5450,\n",
       " 'Are': 1105,\n",
       " 'frying': 6969,\n",
       " 'an': 4861,\n",
       " 'egg': 6485,\n",
       " 'tea': 10615,\n",
       " 'eating': 6462,\n",
       " 'moms': 8490,\n",
       " 'left': 7999,\n",
       " 'over': 8941,\n",
       " 'dinner': 6263,\n",
       " 'Do': 1729,\n",
       " 'Love': 2746,\n",
       " 'amp': 4855,\n",
       " 'were': 11337,\n",
       " 'packing': 8968,\n",
       " 'car': 5547,\n",
       " 'Ill': 2429,\n",
       " 'let': 8020,\n",
       " 'know': 7890,\n",
       " 'theres': 10712,\n",
       " 'room': 9736,\n",
       " 'Ahhh': 1043,\n",
       " 'Work': 4530,\n",
       " 'vaguely': 11120,\n",
       " 'What': 4478,\n",
       " 'does': 6318,\n",
       " 'Wait': 4428,\n",
       " 'thats': 10689,\n",
       " 'clear': 5750,\n",
       " 'sure': 10519,\n",
       " 'being': 5207,\n",
       " 'sarcastic': 9814,\n",
       " 'why': 11380,\n",
       " 'x': 11577,\n",
       " 'doesnt': 6319,\n",
       " 'live': 8090,\n",
       " 'us': 11088,\n",
       " 'Yeah': 4604,\n",
       " 'was': 11261,\n",
       " 'apologetic': 4922,\n",
       " 'had': 7224,\n",
       " 'fallen': 6693,\n",
       " 'out': 8923,\n",
       " 'she': 9976,\n",
       " 'actin': 4704,\n",
       " 'spoilt': 10287,\n",
       " 'child': 5699,\n",
       " 'caught': 5594,\n",
       " 'Till': 4148,\n",
       " 'But': 1365,\n",
       " 'we': 11287,\n",
       " 'Not': 3113,\n",
       " 'doing': 6331,\n",
       " 'too': 10861,\n",
       " 'badly': 5104,\n",
       " 'cheers': 5666,\n",
       " 'K': 2553,\n",
       " 'tell': 10637,\n",
       " 'anything': 4910,\n",
       " 'For': 1981,\n",
       " 'fear': 6734,\n",
       " 'of': 8806,\n",
       " 'fainting': 6684,\n",
       " 'housework': 7446,\n",
       " 'just': 7807,\n",
       " 'Quick': 3437,\n",
       " 'cuppa': 6026,\n",
       " 'Thanks': 4100,\n",
       " 'subscription': 10458,\n",
       " 'Ringtone': 3546,\n",
       " 'UK': 4227,\n",
       " 'charged': 5639,\n",
       " '£5month': 11726,\n",
       " 'Please': 3356,\n",
       " 'confirm': 5877,\n",
       " 'by': 5471,\n",
       " 'replying': 9627,\n",
       " 'YES': 4574,\n",
       " 'NO': 3022,\n",
       " 'If': 2428,\n",
       " 'reply': 9625,\n",
       " 'Yup': 4642,\n",
       " 'look': 8132,\n",
       " 'timings': 10793,\n",
       " 'msg': 8540,\n",
       " 'again': 4762,\n",
       " 'Xuhui': 4562,\n",
       " 'learn': 7988,\n",
       " '2nd': 526,\n",
       " 'may': 8319,\n",
       " 'but': 5458,\n",
       " 'her': 7334,\n",
       " 'lesson': 8018,\n",
       " '8am': 903,\n",
       " 'Oops': 3201,\n",
       " 'roommates': 9739,\n",
       " 'done': 6342,\n",
       " 'see': 9891,\n",
       " 'letter': 8022,\n",
       " 'B': 1143,\n",
       " 'Anything': 1090,\n",
       " 'decide': 6132,\n",
       " 'Hello': 2275,\n",
       " 'Hows': 2350,\n",
       " 'saturday': 9824,\n",
       " 'texting': 10666,\n",
       " 'youd': 11637,\n",
       " 'decided': 6133,\n",
       " 'do': 6305,\n",
       " 'tomo': 10843,\n",
       " 'im': 7551,\n",
       " 'trying': 10955,\n",
       " 'invite': 7656,\n",
       " 'Pls': 3358,\n",
       " 'ahead': 4780,\n",
       " 'watts': 11281,\n",
       " 'wanted': 11250,\n",
       " 'weekend': 11313,\n",
       " 'Abiola': 1011,\n",
       " 'forget': 6888,\n",
       " 'need': 8645,\n",
       " 'crave': 5982,\n",
       " 'most': 8516,\n",
       " 'love': 8165,\n",
       " 'sweet': 10543,\n",
       " 'Arabian': 1102,\n",
       " 'steed': 10361,\n",
       " 'Mmmmmm': 2939,\n",
       " 'Yummy': 4639,\n",
       " '07732584351': 29,\n",
       " 'Rodger': 3552,\n",
       " 'Burns': 1363,\n",
       " 'MSG': 2846,\n",
       " 'We': 4456,\n",
       " 'tried': 10936,\n",
       " 're': 9488,\n",
       " 'sms': 10156,\n",
       " 'free': 6926,\n",
       " 'nokia': 8715,\n",
       " 'camcorder': 5517,\n",
       " '08000930705': 54,\n",
       " 'delivery': 6167,\n",
       " 'tomorrow': 10846,\n",
       " 'WHO': 4383,\n",
       " 'ARE': 983,\n",
       " 'YOU': 4587,\n",
       " 'SEEING': 3588,\n",
       " 'Great': 2141,\n",
       " 'hope': 7418,\n",
       " 'man': 8263,\n",
       " 'well': 11328,\n",
       " 'endowed': 6528,\n",
       " 'am': 4842,\n",
       " 'ltgt': 8191,\n",
       " 'inches': 7578,\n",
       " 'callsmessagesmissed': 5513,\n",
       " 'calls': 5512,\n",
       " 'Didnt': 1707,\n",
       " 'get': 7053,\n",
       " 'hep': 7333,\n",
       " 'immunisation': 7559,\n",
       " 'nigeria': 8686,\n",
       " 'Fair': 1944,\n",
       " 'hopefully': 7423,\n",
       " 'tyler': 10990,\n",
       " 'cant': 5536,\n",
       " 'could': 5954,\n",
       " 'maybe': 8321,\n",
       " 'ask': 5004,\n",
       " 'bit': 5265,\n",
       " 'stubborn': 10425,\n",
       " 'didnt': 6232,\n",
       " 'even': 6594,\n",
       " 'hospital': 7433,\n",
       " 'kept': 7845,\n",
       " 'telling': 10638,\n",
       " 'weak': 11288,\n",
       " 'sucker': 10466,\n",
       " 'Hospitals': 2341,\n",
       " 'are': 4960,\n",
       " 'suckers': 10467,\n",
       " 'thinked': 10728,\n",
       " 'First': 1969,\n",
       " 'time': 10783,\n",
       " 'saw': 9831,\n",
       " 'class': 5743,\n",
       " 'gram': 7152,\n",
       " 'usually': 11106,\n",
       " 'runs': 9771,\n",
       " 'half': 7234,\n",
       " 'eighth': 6492,\n",
       " 'smarter': 10138,\n",
       " 'gets': 7057,\n",
       " 'almost': 4824,\n",
       " 'whole': 11375,\n",
       " 'second': 9879,\n",
       " 'fyi': 6997,\n",
       " 'ride': 9697,\n",
       " 'morning': 8512,\n",
       " 'hes': 7347,\n",
       " 'crashing': 5981,\n",
       " 'place': 9145,\n",
       " 'Wow': 4537,\n",
       " 'never': 8669,\n",
       " 'realized': 9508,\n",
       " 'embarassed': 6512,\n",
       " 'accomodations': 4687,\n",
       " 'thought': 10746,\n",
       " 'liked': 8052,\n",
       " 'since': 10068,\n",
       " 'best': 5225,\n",
       " 'seemed': 9897,\n",
       " 'happy': 7265,\n",
       " 'cave': 5598,\n",
       " 'sorry': 10223,\n",
       " 'give': 7079,\n",
       " 'offered': 8813,\n",
       " 'embarassing': 6513,\n",
       " 'SMS': 3632,\n",
       " 'ac': 4673,\n",
       " 'Sptv': 3894,\n",
       " 'New': 3067,\n",
       " 'Jersey': 2525,\n",
       " 'Devils': 1700,\n",
       " 'Detroit': 1699,\n",
       " 'Red': 3516,\n",
       " 'Wings': 4505,\n",
       " 'play': 9159,\n",
       " 'Ice': 2422,\n",
       " 'Hockey': 2319,\n",
       " 'Correct': 1560,\n",
       " 'Incorrect': 2440,\n",
       " 'End': 1831,\n",
       " 'END': 1774,\n",
       " 'SPTV': 3665,\n",
       " 'what': 11352,\n",
       " 'Mallika': 2876,\n",
       " 'Sherawat': 3782,\n",
       " 'yesterday': 11617,\n",
       " 'Find': 1964,\n",
       " 'ltURLgt': 8190,\n",
       " 'Congrats': 1551,\n",
       " 'year': 11608,\n",
       " 'special': 10255,\n",
       " 'cinema': 5731,\n",
       " 'pass': 9025,\n",
       " 'yours': 11651,\n",
       " '09061209465': 214,\n",
       " 'C': 1373,\n",
       " 'Suprman': 3954,\n",
       " 'V': 4302,\n",
       " 'Matrix3': 2893,\n",
       " 'StarWars3': 3903,\n",
       " 'etc': 6584,\n",
       " 'bx420ip45we': 5470,\n",
       " '150pm': 365,\n",
       " 'Dont': 1742,\n",
       " 'Sorry': 3867,\n",
       " 'later': 7965,\n",
       " 'meeting': 8349,\n",
       " 'Tell': 4084,\n",
       " 'where': 11361,\n",
       " 'reached': 9492,\n",
       " 'Yesgauti': 4616,\n",
       " 'sehwag': 9903,\n",
       " 'odi': 8805,\n",
       " 'series': 9934,\n",
       " 'Your': 4632,\n",
       " 'pick': 9119,\n",
       " 'burger': 5442,\n",
       " 'yourself': 11652,\n",
       " 'move': 8527,\n",
       " 'Pain': 3301,\n",
       " 'killing': 7866,\n",
       " 'Ha': 2229,\n",
       " 'good': 7121,\n",
       " 'joke': 7779,\n",
       " 'Girls': 2108,\n",
       " 'situation': 10088,\n",
       " 'seekers': 9894,\n",
       " 'Its': 2472,\n",
       " 'part': 9014,\n",
       " 'checking': 5663,\n",
       " 'IQ': 2404,\n",
       " 'took': 10864,\n",
       " 'forever': 6885,\n",
       " 'come': 5817,\n",
       " 'double': 6356,\n",
       " 'check': 5660,\n",
       " 'hair': 7231,\n",
       " 'dresser': 6385,\n",
       " 'said': 9789,\n",
       " 'wun': 11525,\n",
       " 'cut': 6039,\n",
       " 'short': 10009,\n",
       " 'nice': 8682,\n",
       " 'pleased': 9170,\n",
       " 'advise': 4742,\n",
       " 'following': 6865,\n",
       " 'recent': 9532,\n",
       " 'review': 9687,\n",
       " 'Mob': 2942,\n",
       " 'awarded': 5079,\n",
       " '£1500': 11694,\n",
       " 'Bonus': 1315,\n",
       " '09066364589': 263,\n",
       " 'Today': 4163,\n",
       " 'song': 10209,\n",
       " 'dedicated': 6142,\n",
       " 'day': 6098,\n",
       " 'Which': 4492,\n",
       " 'dedicate': 6141,\n",
       " 'Send': 3751,\n",
       " 'valuable': 11126,\n",
       " 'frnds': 6955,\n",
       " 'rply': 9752,\n",
       " 'Urgent': 4292,\n",
       " 'UR': 4241,\n",
       " 'complimentary': 5852,\n",
       " 'trip': 10937,\n",
       " 'EuroDisinc': 1848,\n",
       " 'Trav': 4185,\n",
       " 'AcoEntry41': 1021,\n",
       " 'Or': 3207,\n",
       " '£1000': 11685,\n",
       " 'DIS': 1627,\n",
       " '186£150moreFrmMob': 391,\n",
       " 'ShrAcomOrSglSuplt10': 3803,\n",
       " 'LS1': 2674,\n",
       " '3AJ': 576,\n",
       " 'hear': 7301,\n",
       " 'new': 8672,\n",
       " 'Divorce': 1723,\n",
       " 'Barbie': 1253,\n",
       " 'It': 2468,\n",
       " 'comes': 5821,\n",
       " 'Kens': 2582,\n",
       " 'plane': 9152,\n",
       " 'month': 8503,\n",
       " 'end': 6523,\n",
       " 'Wah': 4426,\n",
       " 'lucky': 8196,\n",
       " 'save': 9827,\n",
       " 'money': 8496,\n",
       " 'Hee': 2269,\n",
       " 'Finished': 1968,\n",
       " 'HI': 2193,\n",
       " 'BABE': 1147,\n",
       " 'IM': 2381,\n",
       " 'AT': 994,\n",
       " 'HOME': 2205,\n",
       " 'NOW': 3035,\n",
       " 'WANNA': 4356,\n",
       " 'DO': 1630,\n",
       " 'SOMETHING': 3642,\n",
       " 'XX': 4552,\n",
       " 'Kkwhere': 2612,\n",
       " 'youhow': 11640,\n",
       " 'performed': 9078,\n",
       " 'waiting': 11227,\n",
       " 'machan': 8223,\n",
       " 'once': 8852,\n",
       " 'Thats': 4106,\n",
       " 'cool': 5925,\n",
       " 'gentleman': 7047,\n",
       " 'dignity': 6254,\n",
       " 'respect': 9653,\n",
       " 'peoples': 9070,\n",
       " 'very': 11152,\n",
       " 'much': 8556,\n",
       " 'shy': 10040,\n",
       " 'pa': 8963,\n",
       " 'Does': 1732,\n",
       " 'operate': 8875,\n",
       " 'after': 4757,\n",
       " 'same': 9803,\n",
       " 'Still': 3915,\n",
       " 'looking': 8135,\n",
       " 'job': 7766,\n",
       " 'How': 2347,\n",
       " 'Tas': 4069,\n",
       " 'earn': 6448,\n",
       " 'ah': 4778,\n",
       " 'hi': 7354,\n",
       " 'stop': 10388,\n",
       " 'urgnt': 11083,\n",
       " 'real': 9502,\n",
       " 'yo': 11626,\n",
       " 'tickets': 10774,\n",
       " 'one': 8854,\n",
       " 'jacket': 7727,\n",
       " 'used': 11095,\n",
       " 'multis': 8564,\n",
       " 'started': 10336,\n",
       " 'requests': 9633,\n",
       " 'pain': 8975,\n",
       " 'came': 5518,\n",
       " 'bed': 5181,\n",
       " 'Double': 1748,\n",
       " 'coins': 5796,\n",
       " 'factory': 6676,\n",
       " 'gotta': 7139,\n",
       " 'cash': 5579,\n",
       " 'nitros': 8704,\n",
       " 'babe': 5091,\n",
       " 'Ela': 1821,\n",
       " 'kanoil': 7828,\n",
       " 'download': 6363,\n",
       " 'wen': 11333,\n",
       " 'Don‘t': 1745,\n",
       " 'stand': 10325,\n",
       " 'close': 5762,\n",
       " 'you‘ll': 11660,\n",
       " 'something': 10197,\n",
       " 'another': 4888,\n",
       " 'night': 8687,\n",
       " 'spent': 10272,\n",
       " 'late': 7960,\n",
       " 'afternoon': 4759,\n",
       " 'casualty': 5588,\n",
       " 'means': 8338,\n",
       " 'havent': 7284,\n",
       " 'any': 4900,\n",
       " 'y': 11596,\n",
       " 'stuff42moro': 10436,\n",
       " 'includes': 7581,\n",
       " 'sheets': 9978,\n",
       " 'Smile': 3843,\n",
       " 'Pleasure': 3357,\n",
       " 'trouble': 10942,\n",
       " 'pours': 9252,\n",
       " 'Rain': 3489,\n",
       " 'sum1': 10486,\n",
       " 'Hurts': 2360,\n",
       " 'becoz': 5179,\n",
       " 'SOMEONE': 3640,\n",
       " 'Loves': 2752,\n",
       " 'Smiling': 3845,\n",
       " 'service': 9939,\n",
       " 'representative': 9630,\n",
       " '0800': 50,\n",
       " '169': 384,\n",
       " '6031': 726,\n",
       " 'between': 5232,\n",
       " '10am9pm': 309,\n",
       " 'WON': 4403,\n",
       " 'guaranteed': 7198,\n",
       " '£5000': 11721,\n",
       " 'Havent': 2258,\n",
       " 'planning': 9156,\n",
       " 'buy': 5462,\n",
       " 'lido': 8034,\n",
       " '530': 697,\n",
       " 'show': 10024,\n",
       " 'work': 11472,\n",
       " 'ringtone': 9705,\n",
       " 'collected': 5803,\n",
       " 'Simply': 3813,\n",
       " 'text': 10661,\n",
       " 'password': 9033,\n",
       " 'MIX': 2819,\n",
       " '85069': 856,\n",
       " 'verify': 11148,\n",
       " 'Get': 2100,\n",
       " 'Usher': 4297,\n",
       " 'Britney': 1349,\n",
       " 'FML': 1906,\n",
       " 'PO': 3257,\n",
       " 'Box': 1326,\n",
       " '5249': 694,\n",
       " 'MK17': 2820,\n",
       " '92H': 914,\n",
       " '450Ppw': 636,\n",
       " 'Watching': 4450,\n",
       " 'telugu': 10642,\n",
       " 'moviewat': 8532,\n",
       " 'abt': 4669,\n",
       " 'When': 4483,\n",
       " 'loads': 8102,\n",
       " 'loans': 8104,\n",
       " 'Hi': 2293,\n",
       " 'Wk': 4515,\n",
       " 'hols': 7398,\n",
       " 'run': 9768,\n",
       " 'Forgot': 1986,\n",
       " 'hairdressers': 7233,\n",
       " 'appointment': 4938,\n",
       " 'four': 6912,\n",
       " 'shower': 10026,\n",
       " 'beforehand': 5195,\n",
       " 'cause': 5595,\n",
       " 'prob': 9337,\n",
       " 'cup': 6024,\n",
       " 'coffee': 5791,\n",
       " 'animation': 4875,\n",
       " 'nothing': 8742,\n",
       " 'else': 6507,\n",
       " 'Okay': 3178,\n",
       " 'price': 9313,\n",
       " 'long': 8128,\n",
       " 'legal': 8002,\n",
       " 'Wen': 4469,\n",
       " 'them': 10699,\n",
       " 'Y': 4566,\n",
       " 'ave': 5067,\n",
       " 'ams': 4857,\n",
       " 'xx': 11587,\n",
       " 'And': 1085,\n",
       " 'gone': 7117,\n",
       " '4the': 675,\n",
       " 'driving': 6394,\n",
       " 'test': 10657,\n",
       " 'yet': 11618,\n",
       " 'wow': 11501,\n",
       " 'Youre': 4633,\n",
       " 'mean': 8334,\n",
       " 'guess': 7202,\n",
       " 'gave': 7028,\n",
       " 'boston': 5338,\n",
       " 'men': 8370,\n",
       " 'changed': 5629,\n",
       " 'search': 9874,\n",
       " 'location': 8107,\n",
       " 'nyc': 8782,\n",
       " 'Cuz': 1598,\n",
       " 'signin': 10054,\n",
       " 'page': 8971,\n",
       " 'says': 9837,\n",
       " 'Umma': 4264,\n",
       " 'life': 8037,\n",
       " 'vava': 11137,\n",
       " 'umma': 11009,\n",
       " 'lot': 8149,\n",
       " 'dear': 6119,\n",
       " 'wishes': 11419,\n",
       " 'birthday': 5263,\n",
       " 'making': 8258,\n",
       " 'truly': 10949,\n",
       " 'memorable': 8367,\n",
       " 'Aight': 1046,\n",
       " 'hit': 7376,\n",
       " 'would': 11497,\n",
       " 'ip': 7664,\n",
       " 'address': 4719,\n",
       " 'considering': 5894,\n",
       " 'computer': 5858,\n",
       " 'isnt': 7687,\n",
       " 'minecraft': 8425,\n",
       " 'server': 9938,\n",
       " 'Grumpy': 2145,\n",
       " 'old': 8846,\n",
       " 'people': 9069,\n",
       " 'My': 2995,\n",
       " 'mom': 8487,\n",
       " 'better': 5231,\n",
       " 'lying': 8212,\n",
       " 'jokes': 7781,\n",
       " 'worry': 11488,\n",
       " 'busy': 5456,\n",
       " 'plural': 9180,\n",
       " 'noun': 8749,\n",
       " 'research': 9639,\n",
       " 'Going': 2119,\n",
       " 'dinnermsg': 6264,\n",
       " 'cos': 5943,\n",
       " 'things': 10725,\n",
       " 'scared': 9843,\n",
       " 'mah': 8244,\n",
       " 'Cos': 1561,\n",
       " 'loud': 8160,\n",
       " 'GENT': 2032,\n",
       " 'contact': 5899,\n",
       " 'Last': 2692,\n",
       " 'weekends': 11314,\n",
       " 'draw': 6373,\n",
       " 'shows': 10031,\n",
       " 'GUARANTEED': 2075,\n",
       " '09064012160': 238,\n",
       " 'Code': 1532,\n",
       " 'K52': 2554,\n",
       " '12hrs': 338,\n",
       " '150ppm': 370,\n",
       " 'Wa': 4424,\n",
       " 'openin': 8872,\n",
       " 'sentence': 9928,\n",
       " 'formal': 6896,\n",
       " 'Anyway': 1092,\n",
       " 'fine': 6791,\n",
       " 'juz': 7811,\n",
       " 'tt': 10959,\n",
       " 'eatin': 6461,\n",
       " 'puttin': 9418,\n",
       " 'weightHaha': 11321,\n",
       " 'anythin': 4909,\n",
       " 'happened': 7257,\n",
       " 'entered': 6546,\n",
       " 'cabin': 5478,\n",
       " 'PA': 3225,\n",
       " 'Happy': 2248,\n",
       " 'Bday': 1260,\n",
       " 'Boss': 1323,\n",
       " 'felt': 6751,\n",
       " 'She': 3780,\n",
       " 'askd': 5005,\n",
       " 'After': 1033,\n",
       " 'invited': 7657,\n",
       " 'apartment': 4918,\n",
       " 'went': 11335,\n",
       " 'winner': 11409,\n",
       " 'specially': 10259,\n",
       " 'holiday': 7394,\n",
       " 'flights': 6835,\n",
       " 'inc': 7576,\n",
       " 'operator': 8876,\n",
       " '0871277810910pmin': 123,\n",
       " '18': 387,\n",
       " 'Goodo': 2128,\n",
       " 'must': 8581,\n",
       " 'friday': 6939,\n",
       " 'eggpotato': 6486,\n",
       " 'ratio': 9478,\n",
       " 'tortilla': 10881,\n",
       " 'needed': 8647,\n",
       " 'Hmmmy': 2316,\n",
       " 'uncle': 11014,\n",
       " 'informed': 7603,\n",
       " 'paying': 9048,\n",
       " 'school': 9849,\n",
       " 'directly': 6268,\n",
       " 'pls': 9176,\n",
       " 'food': 6871,\n",
       " 'PRIVATE': 3287,\n",
       " '2004': 429,\n",
       " 'Account': 1017,\n",
       " 'Statement': 3908,\n",
       " '07742676969': 31,\n",
       " '786': 788,\n",
       " 'unredeemed': 11053,\n",
       " 'Points': 3372,\n",
       " '08719180248': 171,\n",
       " 'Identifier': 2426,\n",
       " '45239': 639,\n",
       " 'Expires': 1874,\n",
       " '£2000': 11706,\n",
       " 'Caller': 1457,\n",
       " '5903': 702,\n",
       " 'from': 6962,\n",
       " 'Landline': 2687,\n",
       " ...}"
      ]
     },
     "execution_count": 155,
     "metadata": {},
     "output_type": "execute_result"
    }
   ],
   "source": [
    "bow_transformer.vocabulary_"
   ]
  },
  {
   "cell_type": "code",
   "execution_count": 156,
   "metadata": {},
   "outputs": [
    {
     "data": {
      "text/plain": [
       "'say'"
      ]
     },
     "execution_count": 156,
     "metadata": {},
     "output_type": "execute_result"
    }
   ],
   "source": [
    "bow_transformer.get_feature_names()[9832]"
   ]
  },
  {
   "cell_type": "code",
   "execution_count": 157,
   "metadata": {},
   "outputs": [],
   "source": [
    "messages_bow = bow_transformer.transform(messages['message'])"
   ]
  },
  {
   "cell_type": "code",
   "execution_count": 158,
   "metadata": {},
   "outputs": [
    {
     "data": {
      "text/plain": [
       "<5572x11747 sparse matrix of type '<class 'numpy.int64'>'\n",
       "\twith 79463 stored elements in Compressed Sparse Row format>"
      ]
     },
     "execution_count": 158,
     "metadata": {},
     "output_type": "execute_result"
    }
   ],
   "source": [
    "messages_bow"
   ]
  },
  {
   "cell_type": "code",
   "execution_count": 159,
   "metadata": {},
   "outputs": [
    {
     "data": {
      "text/plain": [
       "(5572, 11747)"
      ]
     },
     "execution_count": 159,
     "metadata": {},
     "output_type": "execute_result"
    }
   ],
   "source": [
    "messages_bow.shape"
   ]
  },
  {
   "cell_type": "code",
   "execution_count": 160,
   "metadata": {},
   "outputs": [
    {
     "data": {
      "text/plain": [
       "79463"
      ]
     },
     "execution_count": 160,
     "metadata": {},
     "output_type": "execute_result"
    }
   ],
   "source": [
    "messages_bow.nnz"
   ]
  },
  {
   "cell_type": "code",
   "execution_count": 161,
   "metadata": {},
   "outputs": [
    {
     "name": "stdout",
     "output_type": "stream",
     "text": [
      "sparsity: 0.12140229049026034\n"
     ]
    }
   ],
   "source": [
    "sparsity = (100.0 * messages_bow.nnz / (messages_bow.shape[0] * messages_bow.shape[1]))\n",
    "print('sparsity: {}'.format((sparsity)))"
   ]
  },
  {
   "cell_type": "code",
   "execution_count": 162,
   "metadata": {},
   "outputs": [],
   "source": [
    "from sklearn.feature_extraction.text import TfidfTransformer"
   ]
  },
  {
   "cell_type": "code",
   "execution_count": 163,
   "metadata": {},
   "outputs": [],
   "source": [
    "tfidf_transformer = TfidfTransformer().fit(messages_bow)"
   ]
  },
  {
   "cell_type": "code",
   "execution_count": 164,
   "metadata": {},
   "outputs": [],
   "source": [
    "tfidf4 = tfidf_transformer.transform(bow4)"
   ]
  },
  {
   "cell_type": "code",
   "execution_count": 165,
   "metadata": {},
   "outputs": [
    {
     "name": "stdout",
     "output_type": "stream",
     "text": [
      "  (0, 10703)\t0.2214828525636521\n",
      "  (0, 10174)\t0.19345051326676527\n",
      "  (0, 9832)\t0.5147493130794172\n",
      "  (0, 7427)\t0.41952836023632145\n",
      "  (0, 6447)\t0.3046289560740644\n",
      "  (0, 6427)\t0.28629349827015765\n",
      "  (0, 5476)\t0.2841540501592932\n",
      "  (0, 4828)\t0.25442769469153637\n",
      "  (0, 4221)\t0.3902711884065556\n"
     ]
    }
   ],
   "source": [
    "print(tfidf4)"
   ]
  },
  {
   "cell_type": "code",
   "execution_count": 166,
   "metadata": {},
   "outputs": [
    {
     "data": {
      "text/plain": [
       "8.527076498901426"
      ]
     },
     "execution_count": 166,
     "metadata": {},
     "output_type": "execute_result"
    }
   ],
   "source": [
    "tfidf_transformer.idf_[bow_transformer.vocabulary_['university']]"
   ]
  },
  {
   "cell_type": "code",
   "execution_count": 167,
   "metadata": {},
   "outputs": [],
   "source": [
    "messages_tfidf = tfidf_transformer.transform(messages_bow)"
   ]
  },
  {
   "cell_type": "code",
   "execution_count": 168,
   "metadata": {},
   "outputs": [],
   "source": [
    "from sklearn.naive_bayes import MultinomialNB"
   ]
  },
  {
   "cell_type": "code",
   "execution_count": 169,
   "metadata": {},
   "outputs": [],
   "source": [
    "spam_detect_model = MultinomialNB().fit(messages_tfidf,messages['label'])"
   ]
  },
  {
   "cell_type": "code",
   "execution_count": 170,
   "metadata": {},
   "outputs": [
    {
     "data": {
      "text/plain": [
       "'ham'"
      ]
     },
     "execution_count": 170,
     "metadata": {},
     "output_type": "execute_result"
    }
   ],
   "source": [
    "spam_detect_model.predict(tfidf4)[0]"
   ]
  },
  {
   "cell_type": "code",
   "execution_count": 171,
   "metadata": {},
   "outputs": [
    {
     "data": {
      "text/plain": [
       "'ham'"
      ]
     },
     "execution_count": 171,
     "metadata": {},
     "output_type": "execute_result"
    }
   ],
   "source": [
    "messages['label'][3]"
   ]
  },
  {
   "cell_type": "code",
   "execution_count": 172,
   "metadata": {},
   "outputs": [],
   "source": [
    "all_pred = spam_detect_model.predict(messages_tfidf)"
   ]
  },
  {
   "cell_type": "code",
   "execution_count": 173,
   "metadata": {},
   "outputs": [
    {
     "data": {
      "text/plain": [
       "array(['ham', 'ham', 'spam', ..., 'ham', 'ham', 'ham'], dtype='<U4')"
      ]
     },
     "execution_count": 173,
     "metadata": {},
     "output_type": "execute_result"
    }
   ],
   "source": [
    "all_pred"
   ]
  },
  {
   "cell_type": "code",
   "execution_count": 174,
   "metadata": {},
   "outputs": [],
   "source": [
    "from sklearn.model_selection import train_test_split"
   ]
  },
  {
   "cell_type": "code",
   "execution_count": 175,
   "metadata": {},
   "outputs": [],
   "source": [
    "msg_train,msg_test,label_train,label_test = train_test_split(messages['message'],messages['label'],test_size=0.3)"
   ]
  },
  {
   "cell_type": "code",
   "execution_count": 176,
   "metadata": {},
   "outputs": [
    {
     "data": {
      "text/plain": [
       "2570             Ultimately tor motive tui achieve korli.\n",
       "2824    Then u ask darren go n pick u lor... But i oso...\n",
       "1261    Yo, I'm at my parents' gettin cash. Good news:...\n",
       "2336    Which is weird because I know I had it at one ...\n",
       "3139                                   Wat r u doing now?\n",
       "                              ...                        \n",
       "3429    Hi darlin did youPhone me? Im atHome if youwan...\n",
       "179     Text her. If she doesnt reply let me know so i...\n",
       "4437    House-Maid is the murderer, coz the man was mu...\n",
       "3192    UR awarded a City Break and could WIN a £200 S...\n",
       "2197           Not much, just some textin'. How bout you?\n",
       "Name: message, Length: 3900, dtype: object"
      ]
     },
     "execution_count": 176,
     "metadata": {},
     "output_type": "execute_result"
    }
   ],
   "source": [
    "msg_train"
   ]
  },
  {
   "cell_type": "code",
   "execution_count": 177,
   "metadata": {},
   "outputs": [],
   "source": [
    "from sklearn.pipeline import Pipeline"
   ]
  },
  {
   "cell_type": "code",
   "execution_count": 179,
   "metadata": {},
   "outputs": [],
   "source": [
    "pipeline = Pipeline([\n",
    "    ('bow',CountVectorizer(analyzer=text_process)),\n",
    "    ('tfidif',TfidfTransformer()),\n",
    "    ('classifier',MultinomialNB) \n",
    "]\n",
    ")"
   ]
  },
  {
   "cell_type": "code",
   "execution_count": 180,
   "metadata": {},
   "outputs": [
    {
     "ename": "TypeError",
     "evalue": "fit() missing 1 required positional argument: 'y'",
     "output_type": "error",
     "traceback": [
      "\u001b[1;31m---------------------------------------------------------------------------\u001b[0m",
      "\u001b[1;31mTypeError\u001b[0m                                 Traceback (most recent call last)",
      "\u001b[1;32m<ipython-input-180-0cc5bab2e5f4>\u001b[0m in \u001b[0;36m<module>\u001b[1;34m\u001b[0m\n\u001b[1;32m----> 1\u001b[1;33m \u001b[0mpipeline\u001b[0m\u001b[1;33m.\u001b[0m\u001b[0mfit\u001b[0m\u001b[1;33m(\u001b[0m\u001b[0mmsg_train\u001b[0m\u001b[1;33m,\u001b[0m\u001b[0mlabel_train\u001b[0m\u001b[1;33m)\u001b[0m\u001b[1;33m\u001b[0m\u001b[1;33m\u001b[0m\u001b[0m\n\u001b[0m",
      "\u001b[1;32m~\\anaconda3\\lib\\site-packages\\sklearn\\pipeline.py\u001b[0m in \u001b[0;36mfit\u001b[1;34m(self, X, y, **fit_params)\u001b[0m\n\u001b[0;32m    352\u001b[0m                                  self._log_message(len(self.steps) - 1)):\n\u001b[0;32m    353\u001b[0m             \u001b[1;32mif\u001b[0m \u001b[0mself\u001b[0m\u001b[1;33m.\u001b[0m\u001b[0m_final_estimator\u001b[0m \u001b[1;33m!=\u001b[0m \u001b[1;34m'passthrough'\u001b[0m\u001b[1;33m:\u001b[0m\u001b[1;33m\u001b[0m\u001b[1;33m\u001b[0m\u001b[0m\n\u001b[1;32m--> 354\u001b[1;33m                 \u001b[0mself\u001b[0m\u001b[1;33m.\u001b[0m\u001b[0m_final_estimator\u001b[0m\u001b[1;33m.\u001b[0m\u001b[0mfit\u001b[0m\u001b[1;33m(\u001b[0m\u001b[0mXt\u001b[0m\u001b[1;33m,\u001b[0m \u001b[0my\u001b[0m\u001b[1;33m,\u001b[0m \u001b[1;33m**\u001b[0m\u001b[0mfit_params\u001b[0m\u001b[1;33m)\u001b[0m\u001b[1;33m\u001b[0m\u001b[1;33m\u001b[0m\u001b[0m\n\u001b[0m\u001b[0;32m    355\u001b[0m         \u001b[1;32mreturn\u001b[0m \u001b[0mself\u001b[0m\u001b[1;33m\u001b[0m\u001b[1;33m\u001b[0m\u001b[0m\n\u001b[0;32m    356\u001b[0m \u001b[1;33m\u001b[0m\u001b[0m\n",
      "\u001b[1;31mTypeError\u001b[0m: fit() missing 1 required positional argument: 'y'"
     ]
    }
   ],
   "source": [
    "pipeline.fit(msg_train,label_train)"
   ]
  },
  {
   "cell_type": "code",
   "execution_count": null,
   "metadata": {},
   "outputs": [],
   "source": []
  }
 ],
 "metadata": {
  "kernelspec": {
   "display_name": "Python 3",
   "language": "python",
   "name": "python3"
  },
  "language_info": {
   "codemirror_mode": {
    "name": "ipython",
    "version": 3
   },
   "file_extension": ".py",
   "mimetype": "text/x-python",
   "name": "python",
   "nbconvert_exporter": "python",
   "pygments_lexer": "ipython3",
   "version": "3.7.6"
  }
 },
 "nbformat": 4,
 "nbformat_minor": 4
}
